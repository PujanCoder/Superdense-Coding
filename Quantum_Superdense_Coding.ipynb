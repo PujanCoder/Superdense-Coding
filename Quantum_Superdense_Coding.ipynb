{
 "cells": [
  {
   "cell_type": "code",
   "execution_count": 47,
   "id": "2b299816-5c40-4b56-8470-ebd7f393a40e",
   "metadata": {},
   "outputs": [],
   "source": [
    "import qiskit\n",
    "from qiskit import QuantumCircuit , ClassicalRegister , QuantumRegister\n",
    "from qiskit_aer import AerSimulator\n",
    "from qiskit.transpiler import generate_preset_pass_manager\n",
    "from qiskit_ibm_runtime import QiskitRuntimeService\n",
    "from qiskit.primitives import StatevectorSampler\n",
    "from qiskit.visualization import plot_coupling_map , plot_distribution"
   ]
  },
  {
   "cell_type": "code",
   "execution_count": 48,
   "id": "53d1b6b3-4c34-4b2c-9f90-e017613f1231",
   "metadata": {},
   "outputs": [],
   "source": [
    "message_bits = (1,1)"
   ]
  },
  {
   "cell_type": "code",
   "execution_count": 49,
   "id": "298fcabd-3187-4543-b7f7-d16cf1136b7a",
   "metadata": {},
   "outputs": [],
   "source": [
    "qc = QuantumCircuit(2,2)"
   ]
  },
  {
   "cell_type": "code",
   "execution_count": 50,
   "id": "487fcc62-708a-4ad9-ae47-934432ef64ca",
   "metadata": {},
   "outputs": [
    {
     "data": {
      "text/plain": [
       "<qiskit.circuit.instructionset.InstructionSet at 0x1db99667ee0>"
      ]
     },
     "execution_count": 50,
     "metadata": {},
     "output_type": "execute_result"
    }
   ],
   "source": [
    "qc.h(0)\n",
    "qc.cx(0,1)\n"
   ]
  },
  {
   "cell_type": "code",
   "execution_count": 51,
   "id": "ca0c8b3d-3d3d-4775-b64e-487e213bb8f9",
   "metadata": {},
   "outputs": [],
   "source": [
    "b1 , b0 = message_bits\n"
   ]
  },
  {
   "cell_type": "code",
   "execution_count": 52,
   "id": "88d5bdce-5bdb-4bc8-90ea-c2ad8493ef49",
   "metadata": {},
   "outputs": [],
   "source": [
    "if((b0,b1)==(0,0)):\n",
    "    pass\n",
    "elif((b0 , b1) == (1,0)):\n",
    "    qc.x(0)\n",
    "elif ((b0, b1) == (0,1)):\n",
    "    qc.z(0)\n",
    "elif((b0 , b1)==(1,1)):\n",
    "    qc.x(0)\n",
    "    qc.z(0)"
   ]
  },
  {
   "cell_type": "code",
   "execution_count": 53,
   "id": "0f0e87b3-984a-41b2-9e74-fdc2b7cef6d0",
   "metadata": {},
   "outputs": [
    {
     "data": {
      "text/plain": [
       "<qiskit.circuit.instructionset.InstructionSet at 0x1db9c51dc90>"
      ]
     },
     "execution_count": 53,
     "metadata": {},
     "output_type": "execute_result"
    }
   ],
   "source": [
    "qc.cx(0,1)\n",
    "qc.h(0)"
   ]
  },
  {
   "cell_type": "code",
   "execution_count": 54,
   "id": "bc65d733-f897-488b-9e60-0fa3f687992c",
   "metadata": {},
   "outputs": [
    {
     "data": {
      "text/plain": [
       "<qiskit.circuit.instructionset.InstructionSet at 0x1db9c4cb9a0>"
      ]
     },
     "execution_count": 54,
     "metadata": {},
     "output_type": "execute_result"
    }
   ],
   "source": [
    "qc.measure(0,0)\n",
    "qc.measure(1,1)\n"
   ]
  },
  {
   "cell_type": "code",
   "execution_count": 55,
   "id": "2ad40107-e003-4233-ac4b-d4f1c36b7a29",
   "metadata": {},
   "outputs": [
    {
     "data": {
      "image/png": "[encoded data removed]",
      "text/plain": [
       "<Figure size 705.35x284.278 with 1 Axes>"
      ]
     },
     "execution_count": 55,
     "metadata": {},
     "output_type": "execute_result"
    }
   ],
   "source": [
    "qc.draw('mpl')"
   ]
  },
  {
   "cell_type": "code",
   "execution_count": 60,
   "id": "5811c407-3c37-4992-9bfd-d7e0e67d8001",
   "metadata": {},
   "outputs": [],
   "source": [
    "backend = AerSimulator()\n",
    "\n",
    "pm = generate_preset_pass_manager(backend = backend , optimization_level = 3)\n",
    "qc = pm.run(qc)\n",
    "\n"
   ]
  },
  {
   "cell_type": "code",
   "execution_count": 61,
   "id": "936a1e30-aca3-4403-8a11-fbd3d7fa1dd8",
   "metadata": {},
   "outputs": [
    {
     "ename": "AttributeError",
     "evalue": "'DataBin' object has no attribute 'meas'",
     "output_type": "error",
     "traceback": [
      "\u001b[1;31m---------------------------------------------------------------------------\u001b[0m",
      "\u001b[1;31mAttributeError\u001b[0m                            Traceback (most recent call last)",
      "Cell \u001b[1;32mIn[61], line 5\u001b[0m\n\u001b[0;32m      2\u001b[0m result \u001b[38;5;241m=\u001b[39m sampler\u001b[38;5;241m.\u001b[39mrun([qc])\u001b[38;5;241m.\u001b[39mresult()\n\u001b[0;32m      4\u001b[0m \u001b[38;5;66;03m# Extract probabilities\u001b[39;00m\n\u001b[1;32m----> 5\u001b[0m probs \u001b[38;5;241m=\u001b[39m \u001b[43mresult\u001b[49m\u001b[43m[\u001b[49m\u001b[38;5;241;43m0\u001b[39;49m\u001b[43m]\u001b[49m\u001b[38;5;241;43m.\u001b[39;49m\u001b[43mdata\u001b[49m\u001b[38;5;241;43m.\u001b[39;49m\u001b[43mmeas\u001b[49m\n\u001b[0;32m      7\u001b[0m \u001b[38;5;28mprint\u001b[39m(\u001b[38;5;124m\"\u001b[39m\u001b[38;5;124mProbabilities:\u001b[39m\u001b[38;5;124m\"\u001b[39m, probs)\n\u001b[0;32m      9\u001b[0m \u001b[38;5;66;03m# Convert to counts\u001b[39;00m\n",
      "\u001b[1;31mAttributeError\u001b[0m: 'DataBin' object has no attribute 'meas'"
     ]
    }
   ],
   "source": [
    "sampler = StatevectorSampler()\n",
    "result = sampler.run([qc]).result()\n",
    "\n",
    "# Extract probabilities\n",
    "probs = result[0].data.meas\n",
    "\n",
    "print(\"Probabilities:\", probs)\n",
    "\n",
    "# Convert to counts\n",
    "shots = 1000\n",
    "counts = {k: int(v * shots) for k, v in probs.items()}\n",
    "\n",
    "print(\"Counts:\", counts)\n",
    "plot_distribution(counts)"
   ]
  },
  {
   "cell_type": "code",
   "execution_count": null,
   "id": "380d8290-c06d-416a-92f2-dfd8afd695f1",
   "metadata": {},
   "outputs": [],
   "source": []
  }
 ],
 "metadata": {
  "kernelspec": {
   "display_name": "Python 3 (ipykernel)",
   "language": "python",
   "name": "python3"
  },
  "language_info": {
   "codemirror_mode": {
    "name": "ipython",
    "version": 3
   },
   "file_extension": ".py",
   "mimetype": "text/x-python",
   "name": "python",
   "nbconvert_exporter": "python",
   "pygments_lexer": "ipython3",
   "version": "3.13.5"
  }
 },
 "nbformat": 4,
 "nbformat_minor": 5
}
